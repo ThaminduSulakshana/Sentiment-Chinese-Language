{
 "cells": [
  {
   "cell_type": "markdown",
   "metadata": {
    "id": "shlUUuDFz4WZ"
   },
   "source": [
    "# **Python & SnowNLP: Sentiment Analysis for the Chinese Language**"
   ]
  },
  {
   "cell_type": "code",
   "execution_count": 1,
   "metadata": {
    "colab": {
     "base_uri": "https://localhost:8080/"
    },
    "executionInfo": {
     "elapsed": 2908,
     "status": "ok",
     "timestamp": 1710904012989,
     "user": {
      "displayName": "Thamindu Bluechiptech",
      "userId": "02818025768214408432"
     },
     "user_tz": -330
    },
    "id": "7d6HPJ_k0Cbx",
    "outputId": "5780b78c-819d-4df0-9f2f-5629c52c86ab"
   },
   "outputs": [
    {
     "name": "stdout",
     "output_type": "stream",
     "text": [
      "http://www.legaldaily.com.cn/\n",
      "http://ent.people.com.cn/n1/2024/0326/c1012-40203315.html\n",
      "mailto://kf@people.cn\n",
      "http://lianghui.people.com.cn/2024/n1/2024/0311/c458609-40193833.html\n",
      "https://app.people.cn/h5/topic/subject_normal/2303\n",
      "http://spanish.peopledaily.com.cn/\n",
      "http://pic.people.com.cn/n1/2024/0326/c1016-40203427.html\n",
      "http://cpc.people.com.cn/20th/\n",
      "http://society.people.com.cn/n1/2024/0326/c1008-40203252.html\n",
      "http://leaders.people.com.cn/GB/178291/218130/458407/index.html\n",
      "http://acftu.people.com.cn/\n",
      "http://data.people.com.cn/\n",
      "http://paper.people.com.cn/rmrbhwb/index.html\n",
      "http://www.people.com.cn\n",
      "http://society.people.com.cn/n1/2024/0326/c1008-40203280.html\n",
      "http://lianghui.people.com.cn/2024/n1/2024/0312/c458561-40194554.html\n",
      "http://ztjy.people.cn/n1/2023/0422/c457340-32670511.html\n",
      "http://paper.people.com.cn/rmrb/html/2022-12/09/nw.D110000renmrb_20221209_2-05.htm\n",
      "http://kf.people.com.cn/\n",
      "http://finance.people.com.cn/n1/2024/0326/c1004-40203416.html\n",
      "http://health.people.com.cn/n1/2024/0326/c14739-40203214.html\n",
      "http://fj.people.com.cn/n2/2024/0326/c181466-40788165.html\n",
      "http://he.people.com.cn/GB/197089/409595/410073/index.html\n",
      "http://www.people.com.cn/img/2014xuke/2018hlwxw.html\n",
      "http://bbs1.people.com.cn/\n",
      "http://world.people.com.cn/n1/2024/0326/c1002-40202933.html\n",
      "http://world.people.com.cn/n1/2024/0326/c1002-40203016.html\n",
      "http://ent.people.com.cn/n1/2024/0326/c1012-40203325.html\n",
      "http://gongyi.people.com.cn/n1/2023/0531/c151132-40003160.html\n",
      "http://leaders.people.com.cn/n1/2024/0219/c58278-40179072.html\n",
      "http://www.people.com.cn/GB/138812/index.html\n",
      "http://theory.people.com.cn/\n",
      "http://lianghui.people.com.cn/2024/n1/2024/0311/c458609-40193834.html\n",
      "http://lianghui.people.com.cn/2024/n1/2024/0312/c458561-40194559.html\n",
      "http://cpc.people.com.cn/\n",
      "http://military.people.com.cn/n1/2024/0326/c1011-40203462.html\n",
      "https://www.xuexi.cn/\n",
      "http://lianghui.people.com.cn/2024/n1/2024/0312/c458609-40193869.html\n",
      "http://opinion.people.com.cn/\n",
      "http://gd.people.com.cn/\n",
      "http://leaders.people.com.cn/n1/2024/0219/c58278-40179159.html\n",
      "http://politics.people.com.cn/n1/2024/0326/c1024-40202946.html\n",
      "https://mr.people.cn/davmu/share/mp/video/2024/03/pNZz4cwZxB/index.html\n",
      "http://finance.people.com.cn/\n",
      "http://www.huanqiu.com/\n",
      "http://lianghui.people.com.cn/2024/n1/2024/0307/c458561-40191194.html\n",
      "http://env.people.com.cn/n1/2024/0326/c1010-40203005.html\n",
      "http://lianghui.people.com.cn/2024/n1/2024/0309/c458609-40192451.html\n",
      "https://www.dswxyjy.org.cn/\n",
      "http://hi.people.com.cn/GB/409849/410207/index.html \n",
      "http://lianghui.people.com.cn/2024/n1/2024/0311/c458609-40193831.html\n",
      "http://opinion.people.com.cn/n1/2024/0326/c1003-40202988.html\n",
      "http://www.people.com.cn/32306/432845/441766/index.html\n",
      "http://hb.people.com.cn/\n",
      "http://politics.people.com.cn/n1/2024/0326/c1024-40202942.html\n",
      "http://www.rmwl.cn\n",
      "http://www.itrust.org.cn/home/index/itrust_certifi/wm/2710933198.html\n",
      "http://finance.people.com.cn/n1/2024/0326/c1004-40202980.html\n",
      "http://world.people.com.cn/n1/2024/0326/c1002-40203375.html\n",
      "http://www.enorth.com.cn/\n",
      "http://gonggao.people.com.cn/\n",
      "http://culture.people.com.cn/GB/172318/index.html\n",
      "http://www.people.com.cn/GB/50142/104580/index.html\n",
      "http://www.italian.people.cn/\n",
      "http://finance.people.com.cn/GB/8215/441842/441919/index.html\n",
      "http://lianghui.people.com.cn/2024/n1/2024/0306/c458561-40190406.html\n",
      "http://lianghui.people.com.cn/2024/n1/2024/0305/c458561-40189656.html\n",
      "http://ent.people.com.cn/n1/2024/0326/c1012-40203332.html\n",
      "http://beian.miit.gov.cn\n",
      "http://lianghui.people.com.cn/2024/n1/2024/0312/c458609-40193863.html\n",
      "http://hi.people.com.cn/G5/n2/2024/0321/c231190-40782842.html\n",
      "http://www.nopss.gov.cn/\n",
      "http://paper.people.com.cn/fcyym/paperindex.htm\n",
      "http://lianghui.people.com.cn/2024/n1/2024/0311/c458561-40193841.html\n",
      "http://cpc.people.com.cn/GB/69112/113427/index.html\n",
      "http://www.people.com.cn/img/2014xuke/2018wlwh.html\n",
      "http://henan.people.com.cn/\n",
      "http://ent.people.com.cn/n1/2024/0326/c1012-40203338.html\n",
      "http://www.qstheory.cn/\n",
      "https://cflac.org.cn/zgwl/\n",
      "http://people.com.cn/\n",
      "http://leaders.people.com.cn/n1/2024/0122/c58278-40163876.html\n",
      "http://pic.people.com.cn/n1/2024/0325/c426981-40202897.html\n",
      "http://world.people.com.cn/n1/2024/0326/c1002-40203443.html\n",
      "http://lianghui.people.com.cn/2024/n1/2024/0312/c458561-40193893.html\n",
      "http://japan.people.com.cn/\n",
      "http://unn.people.com.cn/GB/422044/index.html\n",
      "http://www.msweekly.com/\n",
      "http://arabic.people.com.cn/\n",
      "http://military.people.com.cn/\n",
      "http://politics.people.com.cn/n1/2024/0326/c1001-40202963.html\n",
      "http://society.people.com.cn/n1/2024/0326/c1008-40203223.html\n",
      "http://lianghui.people.com.cn/2024/n1/2024/0310/c458561-40192999.html\n",
      "http://sklccc.com.cn/\n",
      "http://xj.people.com.cn/\n",
      "http://health.people.com.cn/n1/2024/0312/c14739-40194162.html\n",
      "http://paper.people.com.cn/xwzx/paperindex.htm\n",
      "http://www.people.com.cn/GB/50142/420117/420317/index.html\n",
      "http://www.haiwainet.cn/\n",
      "http://pic.people.com.cn/\n",
      "http://opinion.people.com.cn/n1/2024/0326/c1003-40202987.html\n",
      "http://society.people.com.cn/\n",
      "http://world.people.com.cn/n1/2024/0326/c1002-40203020.html\n",
      "http://society.people.com.cn/n1/2024/0326/c1008-40203219.html\n",
      "http://finance.people.com.cn/n1/2024/0311/c1004-40193639.html\n",
      "http://mongol.people.com.cn/\n",
      "http://www.chinanews.com/\n",
      "http://nx.people.com.cn/\n",
      "http://lianghui.people.com.cn/2024/n1/2024/0311/c458609-40193061.html\n",
      "http://politics.people.com.cn/n1/2024/0326/c1024-40202948.html\n",
      "http://jl.people.com.cn/\n",
      "http://yjy.people.com.cn/\n",
      "http://fanfu.people.com.cn/\n",
      "http://opinion.people.com.cn/GB/427456/index.html\n",
      "http://edu.people.com.cn/n1/2024/0326/c1006-40202998.html\n",
      "http://politics.people.com.cn/n1/2024/0326/c1024-40202943.html\n",
      "http://www.youth.cn/\n",
      "http://kpzg.people.com.cn/\n",
      "http://sh.people.com.cn/\n",
      "http://theory.people.com.cn/n1/2024/0326/c40531-40203161.html\n",
      "http://www.rednet.cn/\n",
      "http://pic.people.com.cn/n1/2024/0325/c426981-40202896.html\n",
      "http://js.people.com.cn\n",
      "http://www.cctv.com/\n",
      "http://health.people.com.cn/n1/2024/0326/c14739-40203227.html\n",
      "http://www.southcn.com/\n",
      "http://edu.people.com.cn/n1/2024/0326/c1006-40202966.html\n",
      "http://www.people.com.cn/BIG5/\n",
      "http://finance.people.com.cn/n1/2024/0326/c1004-40203389.html\n",
      "mailto://rmwjubao@people.cn\n",
      "http://env.people.com.cn/n1/2024/0326/c1010-40202953.html\n",
      "http://politics.people.com.cn/GB/8198/434128/index.html\n",
      "http://www.chinamil.com.cn/\n",
      "http://www.people.com.cn/GB/50142/420117/index.html\n",
      "http://www.people.com.cn/img/2014xuke/2018icp.html\n",
      "http://finance.people.com.cn/n1/2024/0326/c1004-40202978.html\n",
      "http://www.zytzb.gov.cn/\n",
      "http://tj.people.com.cn/\n",
      "http://lianghui.people.com.cn/2024/n1/2024/0312/c458561-40193876.html\n",
      "http://www.dengxiaopingnet.com/\n",
      "http://kazakh.people.com.cn/\n",
      "http://lianghui.people.com.cn/2024/n1/2024/0312/c458561-40194556.html\n",
      "http://v.people.cn/GB/61600/458544/458550/index.html\n",
      "http://cpc.people.com.cn/GB/67481/444826/index.html\n",
      "http://world.people.com.cn/n1/2024/0326/c1002-40202932.html\n",
      "http://www.iqilu.com/\n",
      "http://www.kaz.people.cn/\n",
      "http://art.people.com.cn/\n",
      "http://politics.people.com.cn/n1/2024/0326/c1024-40202947.html\n",
      "http://jx.people.com.cn/\n",
      "http://yi.people.com.cn/\n",
      "http://opinion.people.com.cn/n1/2024/0311/c223228-40193782.html\n",
      "javascript://void(0)\n",
      "http://www.people.com.cn/n/2013/1227/c373005-23961344.html\n",
      "http://www.rmsznet.com/\n",
      "http://xizang.people.com.cn/\n",
      "http://www.malay.people.cn/\n",
      "http://www.stcn.com/\n",
      "http://tj.people.com.cn/ \n",
      "http://hm.people.com.cn/\n",
      "http://yn.people.com.cn/\n",
      "http://www.ceweekly.cn/\n",
      "http://zj.people.com.cn/\n",
      "http://military.people.com.cn/n1/2024/0326/c1011-40203459.html\n",
      "http://finance.people.com.cn/n1/2024/0326/c1004-40203390.html\n",
      "http://www.mj.org.cn/\n",
      "https://weiquan.people.com.cn/\n",
      "http://www.cnr.cn/\n",
      "http://edu.people.com.cn/n1/2024/0326/c1006-40203145.html\n",
      "http://french.peopledaily.com.cn/\n",
      "http://kpzg.people.com.cn/n1/2024/0326/c404214-40203066.html\n",
      "http://bj.people.com.cn/\n",
      "http://www.people.cn/app/download.html\n",
      "http://paper.people.com.cn/rmlt/paperindex.htm\n",
      "http://edu.people.com.cn/n1/2024/0326/c1006-40203132.html\n",
      "http://ent.people.com.cn/GB/436846/441076/index.html\n",
      "http://society.people.com.cn/n1/2024/0326/c1008-40203256.html\n",
      "http://cq.people.com.cn/\n",
      "http://world.people.com.cn/n1/2024/0326/c1002-40203380.html\n",
      "http://world.people.com.cn/n1/2024/0326/c1002-40202956.html\n",
      "http://leaders.people.com.cn/GB/178291/407226/index.html\n",
      "http://www.counsellor.gov.cn/\n",
      "http://cpc.people.com.cn/GB/67481/448544/index.html\n",
      "http://www.chinawriter.com.cn/\n",
      "http://health.people.com.cn/n1/2024/0326/c14739-40203169.html\n",
      "http://cpc.people.com.cn/GB/67481/431391/index.html\n",
      "http://www.dswxyjy.org.cn/\n",
      "http://fanfu.people.com.cn/n1/2024/0326/c64371-40203148.html\n",
      "http://www.cqnews.net/\n",
      "http://www.people.com.cn/n1/2019/0308/c420117-30965009.html\n",
      "http://sawcuengh.people.com.cn/\n",
      "http://health.people.com.cn/GB/415859/index.html\n",
      "http://pic.people.com.cn/n1/2024/0326/c1016-40203410.html\n",
      "http://leaders.people.com.cn/GB/178291/218130/448966/457694/index.html\n",
      "http://theory.people.com.cn/n1/2024/0326/c40531-40203174.html\n",
      "http://www.gjrwls.com/\n",
      "http://lianghui.people.com.cn/2024/n1/2024/0311/c458609-40193054.html\n",
      "http://politics.people.com.cn/n1/2024/0326/c1024-40202944.html\n",
      "http://yunying.people.cn/GB/448817/index.html\n",
      "http://finance.people.com.cn/GB/8215/447389/index.html\n",
      "http://theory.people.com.cn/GB/40557/457759/index.html\n",
      "http://usa.people.com.cn/\n",
      "http://dangjian.people.com.cn/\n",
      "http://paper.people.com.cn/rmzk/paperindex.htm\n",
      "http://henan.people.com.cn/n2/2024/0326/c351638-40788090.html\n",
      "http://korean.people.com.cn/\n",
      "http://www.people.com.cn/GB/208743/403202/index.html\n",
      "http://paper.people.com.cn/rmrb/index.html\n",
      "https://www.ccps.gov.cn/\n",
      "http://military.people.com.cn/n1/2024/0326/c1011-40203454.html\n",
      "http://www.ifnews.com/\n",
      "http://edu.people.com.cn/GB/227057/index.html\n",
      "http://www.chinadaily.com.cn/\n",
      "http://finance.people.com.cn/GB/8215/448875/458080/index.html\n",
      "http://edu.people.com.cn/n1/2024/0326/c1006-40203279.html\n",
      "http://job.people.com.cn/\n",
      "http://zhouenlai.people.cn/\n",
      "http://dangjian.people.com.cn/GB/136058/448887/index.html\n",
      "http://en.people.cn/\n",
      "http://sx.people.com.cn/\n",
      "http://www.12380.gov.cn/\n",
      "http://lianghui.people.com.cn/2024/n1/2024/0312/c458609-40193867.html\n",
      "http://liuyan.people.com.cn/home\n",
      "http://media.people.com.cn/n1/2023/0504/c14677-32677659.html\n",
      "http://sc.people.com.cn/\n",
      "http://bbs1.people.com.cn/board/1.html\n",
      "http://gz.people.com.cn/\n",
      "http://kpzg.people.com.cn/n1/2024/0326/c404214-40203059.html\n",
      "http://finance.people.com.cn/n1/2024/0311/c1004-40193412.html\n",
      "http://world.people.com.cn/n1/2024/0326/c1002-40203366.html\n",
      "http://www.chinaql.org/GB/index.html\n",
      "http://paper.people.com.cn/jksb/paperindex.htm\n",
      "http://sports.people.com.cn/GB/436800/index.html\n",
      "http://capital.people.com.cn/GB/440975/index.html\n",
      "http://www.cnhubei.com/\n",
      "http://www.workercn.cn/\n",
      "http://world.people.com.cn/n1/2024/0326/c1002-40202962.html\n",
      "http://www.gjbmj.gov.cn/\n",
      "http://leaders.people.com.cn/GB/178291/218130/448966/458350/index.html\n",
      "http://lianghui.people.com.cn/2024/GB/458543/458676/index.html\n",
      "http://paper.people.com.cn/zgnyb/paperindex.htm\n",
      "http://lianghui.people.com.cn/2024/n1/2024/0312/c458609-40194402.html\n",
      "http://www.scopsr.gov.cn/\n",
      "http://kpzg.people.com.cn/n1/2024/0326/c404214-40203062.html\n",
      "http://www.taiwan.cn/\n",
      "http://paper.people.com.cn/rmrb/html/2022-12/14/nw.D110000renmrb_20221214_1-09.htm\n",
      "http://finance.people.com.cn/GB/70846/index.html\n",
      "http://lianghui.people.com.cn/2024/n1/2024/0312/c458561-40193878.html\n",
      "http://society.people.com.cn/n1/2024/0326/c1008-40202994.html\n",
      "http://lianghui.people.com.cn/2024/n1/2024/0311/c458561-40193083.html\n",
      "http://yn.people.com.cn/n2/2024/0326/c378439-40788207.html\n",
      "http://graphicnews.people.com.cn/\n",
      "http://cpc.people.com.cn/n1/2022/0720/c64387-32480412.html\n",
      "http://www.people.com.cn/GB/59476/index.html\n",
      "http://dangshi.people.com.cn/\n",
      "http://jhsjk.people.cn/\n",
      "http://lianghui.people.com.cn/2024/n1/2024/0312/c458609-40193864.html\n",
      "http://military.people.com.cn/GB/172467/index.html\n",
      "http://lianghui.people.com.cn/2024/n1/2024/0312/c458609-40194404.html\n",
      "http://ent.people.com.cn/n1/2024/0326/c1012-40203012.html\n",
      "http://www.people.com.cn/img/2011zzzs/2018xxwlcb.htm\n",
      "http://finance.people.com.cn/n1/2024/0326/c1004-40203391.html\n",
      "http://paper.people.com.cn/rmrbhwb/paperindex.htm\n",
      "https://ss.knet.cn/verifyseal.dll\n",
      "http://lianghui.people.com.cn/2024/n1/2024/0312/c458561-40193880.html\n",
      "http://renshi.people.com.cn/\n",
      "https://liuyan.people.com.cn/threads/content\n",
      "http://www.scio.gov.cn/\n",
      "http://www.people.com.cn/GB/1018/22259/index.html\n",
      "http://xz.people.com.cn/\n",
      "http://politics.people.com.cn/n1/2024/0326/c1001-40202979.html\n",
      "http://fangtan.people.com.cn/\n",
      "http://finance.people.com.cn/GB/8215/452688/index.html\n",
      "http://world.people.com.cn/n1/2024/0326/c1002-40203435.html\n",
      "http://www.cvf.org.cn/\n",
      "http://www.xinhuanet.com/\n",
      "http://lianghui.people.com.cn/2024/n1/2024/0311/c458609-40193552.html\n",
      "http://unn.people.com.cn/difang/GB/387272/index.html\n",
      "http://www.piyao.org.cn/\n",
      "http://ent.people.com.cn/n1/2024/0326/c1012-40203241.html\n",
      "http://finance.people.com.cn/n1/2024/0311/c1004-40193497.html\n",
      "http://lianghui.people.com.cn/2024/GB/458541/458705/index.html\n",
      "http://www.cri.cn/\n",
      "http://lianghui.people.com.cn/2024/n1/2024/0312/c458609-40194314.html\n",
      "http://leaders.people.com.cn/GB/178291/218130/442740/index.html\n",
      "http://opinion.people.com.cn/n1/2024/0326/c1003-40202967.html\n",
      "http://edu.people.com.cn/GB/1053/index.html\n",
      "http://app.people.cn/sizheng\n",
      "http://5g.people.cn/rmspdown/\n",
      "http://www.ccdi.gov.cn/\n",
      "http://www.wenweipo.com/\n",
      "http://edu.people.com.cn/n1/2024/0326/c1006-40203170.html\n",
      "https://www.hubpd.com/\n",
      "http://www.zgjx.cn/\n",
      "http://lianghui.people.com.cn/2024/n1/2024/0311/c458561-40193099.html\n",
      "https://liuyan.people.com.cn/rmjy\n",
      "http://nm.people.com.cn/\n",
      "http://sc.people.com.cn/n2/2024/0321/c404331-40782983.html\n",
      "http://world.people.com.cn/n1/2024/0326/c1002-40203017.html\n",
      "http://finance.people.com.cn/n1/2024/0326/c1004-40203384.html\n",
      "http://lianghui.people.com.cn/2024/n1/2024/0312/c458561-40194557.html\n",
      "http://society.people.com.cn/n1/2024/0326/c1008-40203292.html\n",
      "http://app.people.cn/h5/topic/subject_normal/2303\n",
      "http://lianghui.people.com.cn/2024/GB/458543/458675/index.html\n",
      "http://lianghui.people.com.cn/2024/n1/2024/0312/c458561-40194555.html\n",
      "http://lianghui.people.com.cn/2024/n1/2024/0312/c458609-40194351.html\n",
      "http://travel.people.com.cn/GB/41636/index.html\n",
      "http://ent.people.com.cn/GB/448897/458308/index.html\n",
      "http://health.people.com.cn/n1/2024/0326/c14739-40203216.html\n",
      "http://opinion.people.com.cn/GB/431649/index.html\n",
      "http://www.minge.gov.cn/\n",
      "http://www.cac.gov.cn/\n",
      "http://lianghui.people.com.cn/2024/n1/2024/0312/c458609-40193870.html\n",
      "http://world.people.com.cn/n1/2024/0326/c1002-40202934.html\n",
      "http://lianghui.people.com.cn/2024/GB/458541/458711/index.html\n",
      "http://politics.people.com.cn/n1/2024/0326/c1024-40202945.html\n",
      "http://ent.people.com.cn/n1/2024/0326/c1012-40203324.html\n",
      "http://v.people.cn/n1/2024/0326/c444662-40203506.html\n",
      "http://lianghui.people.com.cn/2024/n1/2024/0312/c458561-40194564.html\n",
      "http://world.people.com.cn/n1/2024/0326/c1002-40202937.html\n",
      "http://edu.people.com.cn/\n",
      "http://cpc.people.com.cn/GB/64162/448556/index.html\n",
      "http://health.people.com.cn/\n",
      "http://finance.people.com.cn/GB/8215/458434/458435/index.html\n",
      "http://www.people.com.cn/GB/8722/index1.html\n",
      "http://lianghui.people.com.cn/2024/n1/2024/0311/c458561-40193718.html\n",
      "http://cq.people.com.cn/n2/2024/0326/c367668-40788002.html\n",
      "http://www.eastday.com/\n",
      "http://military.people.com.cn/n1/2024/0326/c1011-40203452.html\n",
      "http://www.gwytb.gov.cn/\n",
      "http://828.people.com.cn/\n",
      "http://world.people.com.cn/n1/2024/0326/c1002-40203355.html\n",
      "http://ent.people.com.cn/n1/2024/0326/c1012-40203351.html\n",
      "http://gx.people.com.cn/\n",
      "http://opinion.people.com.cn/GB/427456/437949/index.html\n",
      "http://lianghui.people.com.cn/2024/n1/2024/0311/c458609-40193578.html\n",
      "http://fanfu.people.com.cn/n1/2024/0326/c64371-40203144.html\n",
      "http://v.people.cn/\n",
      "http://lianghui.people.com.cn/2024/n1/2024/0311/c458561-40193855.html\n",
      "http://sn.people.com.cn/\n",
      "http://australia.people.com.cn/\n",
      "http://www.thai.people.cn/\n",
      "http://culture.people.com.cn/GB/430418/index.html\n",
      "http://world.people.com.cn/GB/359707/index.html\n",
      "http://finance.people.com.cn/n1/2024/0326/c1004-40203414.html\n",
      "http://sz.people.com.cn/\n",
      "http://lianghui.people.com.cn/2024/GB/458543/index.html\n",
      "http://opinion.people.com.cn/GB/8213/420650/index.html\n",
      "http://lianghui.people.com.cn/2024/n1/2024/0312/c458609-40193872.html\n",
      "http://renshi.people.com.cn/n1/2024/0326/c139617-40203206.html\n",
      "https://www.peopleyun.cn/\n",
      "http://lianghui.people.com.cn/2024/n1/2024/0312/c458561-40194553.html\n",
      "http://hi.people.com.cn/\n",
      "http://www.ts.cn/\n",
      "http://paper.people.com.cn/zgcsb/paperindex.htm\n",
      "http://fanfu.people.com.cn/GB/143349/458410/index.html\n",
      "http://portuguese.people.com.cn/\n",
      "http://hb.people.com.cn/n2/2024/0326/c194063-40788287.html\n",
      "http://yjy.people.com.cn/n1/2024/0326/c440911-40203424.html\n",
      "http://world.people.com.cn/n1/2024/0326/c1002-40202955.html\n",
      "http://www.cppcc.gov.cn/\n",
      "http://politics.people.com.cn/n1/2024/0326/c1001-40203475.html\n",
      "http://cpc.people.com.cn/xuexi/GB/458616/index.html\n",
      "http://www.idcpc.org.cn/\n",
      "http://ln.people.com.cn/\n",
      "http://lianghui.people.com.cn/2024/n1/2024/0311/c458609-40193062.html\n",
      "http://cpc.people.com.cn/n1/2024/0326/c443712-40203181.html\n",
      "http://society.people.com.cn/n1/2024/0326/c1008-40202952.html\n",
      "http://world.people.com.cn/n1/2024/0326/c1002-40203369.html\n",
      "http://www.people.com.cn/img/2014xuke/2018wlcb.html\n",
      "http://finance.people.com.cn/n1/2024/0326/c1004-40203386.html\n",
      "http://pic.people.com.cn/n1/2024/0326/c1016-40203032.html\n",
      "http://society.people.com.cn/n1/2024/0326/c1008-40203290.html\n",
      "http://si.trustutn.org/info\n",
      "http://nx.people.com.cn/n2/2024/0326/c192482-40788398.html\n",
      "http://health.people.com.cn/GB/408835/428895/index.html\n",
      "http://fj.people.com.cn/\n",
      "http://cpc.people.com.cn/GB/67481/457481/index.html\n",
      "http://korea.people.com.cn/\n",
      "http://politics.people.com.cn/n1/2024/0326/c1001-40202991.html\n",
      "http://ent.people.com.cn/n1/2024/0326/c1012-40203314.html\n",
      "http://world.people.com.cn/\n",
      "http://health.people.com.cn/n1/2024/0326/c14739-40203209.html\n",
      "http://finance.people.com.cn/n1/2024/0326/c1004-40202977.html\n",
      "http://www.tibet.cn/\n",
      "http://kr.people.com.cn/\n",
      "http://hr.peopledaily.com.cn/\n",
      "http://society.people.com.cn/n1/2024/0326/c1008-40203212.html\n",
      "http://german.people.com.cn/\n",
      "http://www.wenming.cn/\n",
      "http://sd.people.com.cn/\n",
      "http://tw.people.com.cn/\n",
      "http://j.people.com.cn/\n",
      "http://vip.people.com.cn/\n",
      "http://he.people.com.cn/\n",
      "http://finance.people.com.cn/n1/2024/0311/c1004-40193491.html \n",
      "http://edu.people.com.cn/n1/2024/0326/c1006-40203225.html\n",
      "http://pic.people.com.cn/n1/2024/0326/c1016-40203387.html\n",
      "http://leaders.people.com.cn/n1/2024/0219/c58278-40179079.html\n",
      "http://lianghui.people.com.cn/2024/n1/2024/0310/c458609-40192973.html\n",
      "http://sso.people.com.cn/resource/html/userInforPro.html\n",
      "http://www.chinapeace.gov.cn/\n",
      "http://politics.people.com.cn/n1/2024/0326/c1024-40203449.html\n",
      "http://russian.people.com.cn/\n",
      "http://www.swahili.people.cn/\n",
      "http://finance.people.com.cn/n1/2024/0326/c1004-40203373.html\n",
      "http://world.people.com.cn/n1/2024/0326/c1002-40202958.html\n",
      "http://ent.people.com.cn/n1/2024/0326/c1012-40203246.html\n",
      "http://cpc.people.com.cn/xuexi/GB/433640/index.html\n",
      "http://yunying.people.cn/GB/458664/index.html\n",
      "http://hlj.people.com.cn/\n",
      "http://gs.people.com.cn/\n",
      "http://liuyan.people.com.cn/login\n",
      "http://opinion.people.com.cn/n1/2024/0326/c1003-40202968.html\n",
      "http://ent.people.com.cn/n1/2024/0325/c1012-40202877.html\n",
      "http://society.people.com.cn/n1/2024/0326/c1008-40203001.html\n",
      "http://www.qizhiwang.org.cn/\n",
      "http://cpc.people.com.cn/xuexi/GB/457576/index.html\n",
      "http://opinion.people.com.cn/GB/223228/index.html\n",
      "http://www.chinaxiaokang.com/\n",
      "http://world.people.com.cn/n1/2024/0326/c1002-40203362.html\n",
      "http://finance.people.com.cn/n1/2024/0326/c1004-40203395.html\n",
      "http://www.people.cn\n",
      "http://www.cyol.com/\n",
      "http://lianghui.people.com.cn/2024/n1/2024/0312/c458561-40194492.html\n",
      "http://www.greek.people.cn/\n",
      "http://politics.people.com.cn/n1/2024/0326/c1001-40203024.html\n",
      "http://world.people.com.cn/n1/2024/0326/c1002-40203033.html\n",
      "mailto://jubao@people.cn\n",
      "https://www.huanqiu.com/\n",
      "http://paper.people.com.cn/rmrb/html/2024-03/11/nbs.D110000renmrb_05.htm\n",
      "http://www.dangjian.cn/\n",
      "http://www.beian.gov.cn/portal/registerSystemInfo\n",
      "http://liuyan.people.com.cn/\n",
      "http://www.people.com.cn/img/2014xuke/2018zzdxxkz.html\n",
      "http://lianghui.people.com.cn/2024/\n",
      "http://world.people.com.cn/n1/2024/0326/c1002-40203022.html\n",
      "http://military.people.com.cn/n1/2024/0326/c1011-40203460.html\n",
      "http://www.npc.gov.cn/\n",
      "http://cpc.people.com.cn/n1/2024/0326/c443712-40203195.html\n",
      "https://weiquan.people.com.cn/seo_pages/\n",
      "http://ent.people.com.cn/n1/2024/0326/c1012-40203327.html\n",
      "https://www.12377.cn/\n",
      "http://finance.people.com.cn/n1/2024/0326/c1004-40203418.html\n",
      "http://env.people.com.cn/\n",
      "http://www.cnautonews.com/\n",
      "http://lianghui.people.com.cn/2024/n1/2024/0312/c458561-40194530.html\n",
      "http://lianghui.people.com.cn/2024/n1/2024/0310/c458609-40192923.html\n",
      "http://www.rmxiongan.com/\n",
      "http://lianghui.people.com.cn/2024/n1/2024/0312/c458609-40194360.html\n",
      "http://search.people.cn/\n",
      "http://www.ce.cn/\n",
      "http://www.k618.cn/\n",
      "http://www.hqrw.com.cn/\n",
      "http://theory.people.com.cn/GB/148980/index.html\n",
      "http://www.peoplemooc.com/\n",
      "http://www.china.com.cn/\n",
      "http://ent.people.com.cn/\n",
      "http://cpc.people.com.cn/GB/64162/448633/index.html\n",
      "http://cpc.people.com.cn/GB/67481/444924/index.html\n",
      "http://military.people.com.cn/n1/2024/0326/c1011-40203455.html\n",
      "http://ent.people.com.cn/n1/2024/0326/c1012-40203264.html\n",
      "http://kpzg.people.com.cn/GB/444839/index.html\n",
      "http://hn.people.com.cn/\n",
      "http://www.gmw.cn/\n",
      "http://society.people.com.cn/n1/2024/0326/c1008-40203377.html\n",
      "http://world.people.com.cn/GB/157278/index.html\n",
      "http://qh.people.com.cn/\n",
      "http://uk.people.com.cn/\n",
      "http://ah.people.com.cn/\n",
      "http://military.people.com.cn/n1/2024/0326/c1011-40203458.html\n",
      "http://finance.people.com.cn/n1/2024/0311/c1004-40193501.html\n",
      "http://ent.people.com.cn/n1/2024/0326/c1012-40203254.html\n",
      "http://www.people.com.cn/img/2019peopleindex/html/gbds2019.html\n",
      "http://lianghui.people.com.cn/2024/n1/2024/0311/c458609-40193856.html\n",
      "http://finance.people.com.cn/GB/8215/458434/458480/index.html\n",
      "http://edu.people.com.cn/n1/2024/0326/c1006-40203138.html\n",
      "http://www.cdpf.org.cn/\n",
      "http://sso.people.com.cn/login\n",
      "http://health.people.com.cn/n1/2024/0326/c14739-40203201.html\n",
      "http://www.gov.cn/\n",
      "http://www.people.com.cn/GB/208743/403202/403212/index.html\n",
      "http://www.nrta.gov.cn/\n",
      "http://www.qianlong.com/\n",
      "http://uyghur.people.com.cn/\n",
      "http://lianghui.people.com.cn/2024/n1/2024/0311/c458500-40193386.html\n",
      "http://edu.people.com.cn/n1/2024/0326/c1006-40203326.html\n",
      "http://ru.people.com.cn/\n",
      "https://mr.people.cn/davmu/share/mp/video/2024/03/VnJEQhJVO9/index.html\n"
     ]
    }
   ],
   "source": [
    "from urllib.parse import urlparse, urljoin\n",
    "import requests\n",
    "from bs4 import BeautifulSoup\n",
    "\n",
    "def get_all_website_links(url):\n",
    "    urls = set()\n",
    "    domain_name = urlparse(url).netloc\n",
    "    soup = BeautifulSoup(requests.get(url).content, \"html.parser\")\n",
    "    for a_tag in soup.findAll(\"a\"):\n",
    "        href = a_tag.attrs.get(\"href\")\n",
    "        if href == \"\" or href is None:\n",
    "            continue\n",
    "        href = urljoin(url, href)\n",
    "        parsed_href = urlparse(href)\n",
    "        # cleaning URL\n",
    "        href = parsed_href.scheme + \"://\" + parsed_href.netloc + parsed_href.path\n",
    "        if domain_name not in href:\n",
    "            # external link\n",
    "            urls.add(href)  # Add external links to the set\n",
    "        else:\n",
    "            # internal link\n",
    "            urls.add(href)\n",
    "    return urls\n",
    "\n",
    "# Testing the function\n",
    "url = \"http://people.com.cn/\"\n",
    "all_links = get_all_website_links(url)\n",
    "for link in all_links:\n",
    "    print(link)\n"
   ]
  },
  {
   "cell_type": "code",
   "execution_count": 5,
   "metadata": {
    "colab": {
     "base_uri": "https://localhost:8080/"
    },
    "executionInfo": {
     "elapsed": 19481,
     "status": "ok",
     "timestamp": 1710904106972,
     "user": {
      "displayName": "Thamindu Bluechiptech",
      "userId": "02818025768214408432"
     },
     "user_tz": -330
    },
    "id": "rldnfrjX1IF4",
    "outputId": "6586e206-26ac-4731-995b-74b7356a5097"
   },
   "outputs": [
    {
     "name": "stdout",
     "output_type": "stream",
     "text": [
      "Collecting newspaper3k\n",
      "  Downloading newspaper3k-0.2.8-py3-none-any.whl.metadata (11 kB)\n",
      "Requirement already satisfied: beautifulsoup4>=4.4.1 in c:\\users\\sulayako\\appdata\\local\\programs\\python\\python312\\lib\\site-packages (from newspaper3k) (4.12.2)\n",
      "Requirement already satisfied: Pillow>=3.3.0 in c:\\users\\sulayako\\appdata\\local\\programs\\python\\python312\\lib\\site-packages (from newspaper3k) (9.5.0)\n",
      "Requirement already satisfied: PyYAML>=3.11 in c:\\users\\sulayako\\appdata\\local\\programs\\python\\python312\\lib\\site-packages (from newspaper3k) (6.0.1)\n",
      "Collecting cssselect>=0.9.2 (from newspaper3k)\n",
      "  Downloading cssselect-1.2.0-py2.py3-none-any.whl.metadata (2.2 kB)\n",
      "Requirement already satisfied: lxml>=3.6.0 in c:\\users\\sulayako\\appdata\\local\\programs\\python\\python312\\lib\\site-packages (from newspaper3k) (5.1.0)\n",
      "Requirement already satisfied: nltk>=3.2.1 in c:\\users\\sulayako\\appdata\\local\\programs\\python\\python312\\lib\\site-packages (from newspaper3k) (3.8.1)\n",
      "Requirement already satisfied: requests>=2.10.0 in c:\\users\\sulayako\\appdata\\local\\programs\\python\\python312\\lib\\site-packages (from newspaper3k) (2.31.0)\n",
      "Collecting feedparser>=5.2.1 (from newspaper3k)\n",
      "  Downloading feedparser-6.0.11-py3-none-any.whl.metadata (2.4 kB)\n",
      "Collecting tldextract>=2.0.1 (from newspaper3k)\n",
      "  Downloading tldextract-5.1.2-py3-none-any.whl.metadata (11 kB)\n",
      "Collecting feedfinder2>=0.0.4 (from newspaper3k)\n",
      "  Downloading feedfinder2-0.0.4.tar.gz (3.3 kB)\n",
      "  Preparing metadata (setup.py): started\n",
      "  Preparing metadata (setup.py): finished with status 'done'\n",
      "Collecting jieba3k>=0.35.1 (from newspaper3k)\n",
      "  Downloading jieba3k-0.35.1.zip (7.4 MB)\n",
      "     ---------------------------------------- 0.0/7.4 MB ? eta -:--:--\n",
      "     ---------------------------------------- 0.0/7.4 MB ? eta -:--:--\n",
      "     ---------------------------------------- 0.0/7.4 MB 435.7 kB/s eta 0:00:17\n",
      "     ---------------------------------------- 0.0/7.4 MB 435.7 kB/s eta 0:00:17\n",
      "     ---------------------------------------- 0.0/7.4 MB 435.7 kB/s eta 0:00:17\n",
      "     ---------------------------------------- 0.1/7.4 MB 272.3 kB/s eta 0:00:28\n",
      "     ---------------------------------------- 0.1/7.4 MB 348.6 kB/s eta 0:00:22\n",
      "      --------------------------------------- 0.1/7.4 MB 385.0 kB/s eta 0:00:19\n",
      "      --------------------------------------- 0.1/7.4 MB 387.0 kB/s eta 0:00:19\n",
      "     - -------------------------------------- 0.2/7.4 MB 471.4 kB/s eta 0:00:16\n",
      "     - -------------------------------------- 0.2/7.4 MB 509.6 kB/s eta 0:00:15\n",
      "     - -------------------------------------- 0.2/7.4 MB 497.3 kB/s eta 0:00:15\n",
      "     - -------------------------------------- 0.3/7.4 MB 500.5 kB/s eta 0:00:15\n",
      "     - -------------------------------------- 0.3/7.4 MB 531.5 kB/s eta 0:00:14\n",
      "     - -------------------------------------- 0.4/7.4 MB 587.5 kB/s eta 0:00:13\n",
      "     -- ------------------------------------- 0.5/7.4 MB 670.2 kB/s eta 0:00:11\n",
      "     -- ------------------------------------- 0.5/7.4 MB 742.9 kB/s eta 0:00:10\n",
      "     --- ------------------------------------ 0.6/7.4 MB 805.5 kB/s eta 0:00:09\n",
      "     ---- ----------------------------------- 0.8/7.4 MB 976.5 kB/s eta 0:00:07\n",
      "     ----- ---------------------------------- 0.9/7.4 MB 1.1 MB/s eta 0:00:06\n",
      "     ----- ---------------------------------- 1.1/7.4 MB 1.2 MB/s eta 0:00:06\n",
      "     ------ --------------------------------- 1.3/7.4 MB 1.3 MB/s eta 0:00:05\n",
      "     ------- -------------------------------- 1.4/7.4 MB 1.5 MB/s eta 0:00:05\n",
      "     -------- ------------------------------- 1.6/7.4 MB 1.6 MB/s eta 0:00:04\n",
      "     --------- ------------------------------ 1.9/7.4 MB 1.7 MB/s eta 0:00:04\n",
      "     ----------- ---------------------------- 2.1/7.4 MB 1.9 MB/s eta 0:00:03\n",
      "     ------------ --------------------------- 2.3/7.4 MB 2.0 MB/s eta 0:00:03\n",
      "     ------------- -------------------------- 2.6/7.4 MB 2.1 MB/s eta 0:00:03\n",
      "     --------------- ------------------------ 2.9/7.4 MB 2.3 MB/s eta 0:00:03\n",
      "     ----------------- ---------------------- 3.2/7.4 MB 2.4 MB/s eta 0:00:02\n",
      "     ------------------ --------------------- 3.4/7.4 MB 2.5 MB/s eta 0:00:02\n",
      "     -------------------- ------------------- 3.8/7.4 MB 2.7 MB/s eta 0:00:02\n",
      "     -------------------- ------------------- 3.8/7.4 MB 2.7 MB/s eta 0:00:02\n",
      "     ----------------------- ---------------- 4.3/7.4 MB 2.9 MB/s eta 0:00:02\n",
      "     ------------------------ --------------- 4.6/7.4 MB 3.0 MB/s eta 0:00:01\n",
      "     -------------------------- ------------- 4.9/7.4 MB 3.1 MB/s eta 0:00:01\n",
      "     ---------------------------- ----------- 5.2/7.4 MB 3.2 MB/s eta 0:00:01\n",
      "     ----------------------------- ---------- 5.5/7.4 MB 3.2 MB/s eta 0:00:01\n",
      "     ------------------------------ --------- 5.6/7.4 MB 3.2 MB/s eta 0:00:01\n",
      "     ------------------------------- -------- 5.9/7.4 MB 3.3 MB/s eta 0:00:01\n",
      "     --------------------------------- ------ 6.1/7.4 MB 3.3 MB/s eta 0:00:01\n",
      "     --------------------------------- ------ 6.3/7.4 MB 3.4 MB/s eta 0:00:01\n",
      "     ----------------------------------- ---- 6.5/7.4 MB 3.4 MB/s eta 0:00:01\n",
      "     ----------------------------------- ---- 6.6/7.4 MB 3.4 MB/s eta 0:00:01\n",
      "     ------------------------------------- -- 7.0/7.4 MB 3.5 MB/s eta 0:00:01\n",
      "     ---------------------------------------  7.3/7.4 MB 3.5 MB/s eta 0:00:01\n",
      "     ---------------------------------------- 7.4/7.4 MB 3.5 MB/s eta 0:00:00\n",
      "  Preparing metadata (setup.py): started\n",
      "  Preparing metadata (setup.py): finished with status 'done'\n",
      "Requirement already satisfied: python-dateutil>=2.5.3 in c:\\users\\sulayako\\appdata\\local\\programs\\python\\python312\\lib\\site-packages (from newspaper3k) (2.8.2)\n",
      "Collecting tinysegmenter==0.3 (from newspaper3k)\n",
      "  Downloading tinysegmenter-0.3.tar.gz (16 kB)\n",
      "  Preparing metadata (setup.py): started\n",
      "  Preparing metadata (setup.py): finished with status 'done'\n",
      "Requirement already satisfied: soupsieve>1.2 in c:\\users\\sulayako\\appdata\\local\\programs\\python\\python312\\lib\\site-packages (from beautifulsoup4>=4.4.1->newspaper3k) (2.5)\n",
      "Requirement already satisfied: six in c:\\users\\sulayako\\appdata\\local\\programs\\python\\python312\\lib\\site-packages (from feedfinder2>=0.0.4->newspaper3k) (1.16.0)\n",
      "Collecting sgmllib3k (from feedparser>=5.2.1->newspaper3k)\n",
      "  Downloading sgmllib3k-1.0.0.tar.gz (5.8 kB)\n",
      "  Preparing metadata (setup.py): started\n",
      "  Preparing metadata (setup.py): finished with status 'done'\n",
      "Requirement already satisfied: click in c:\\users\\sulayako\\appdata\\local\\programs\\python\\python312\\lib\\site-packages (from nltk>=3.2.1->newspaper3k) (8.1.7)\n",
      "Requirement already satisfied: joblib in c:\\users\\sulayako\\appdata\\local\\programs\\python\\python312\\lib\\site-packages (from nltk>=3.2.1->newspaper3k) (1.3.2)\n",
      "Requirement already satisfied: regex>=2021.8.3 in c:\\users\\sulayako\\appdata\\local\\programs\\python\\python312\\lib\\site-packages (from nltk>=3.2.1->newspaper3k) (2023.10.3)\n",
      "Requirement already satisfied: tqdm in c:\\users\\sulayako\\appdata\\local\\programs\\python\\python312\\lib\\site-packages (from nltk>=3.2.1->newspaper3k) (4.66.1)\n",
      "Requirement already satisfied: charset-normalizer<4,>=2 in c:\\users\\sulayako\\appdata\\local\\programs\\python\\python312\\lib\\site-packages (from requests>=2.10.0->newspaper3k) (3.3.2)\n",
      "Requirement already satisfied: idna<4,>=2.5 in c:\\users\\sulayako\\appdata\\local\\programs\\python\\python312\\lib\\site-packages (from requests>=2.10.0->newspaper3k) (3.6)\n",
      "Requirement already satisfied: urllib3<3,>=1.21.1 in c:\\users\\sulayako\\appdata\\local\\programs\\python\\python312\\lib\\site-packages (from requests>=2.10.0->newspaper3k) (2.0.7)\n",
      "Requirement already satisfied: certifi>=2017.4.17 in c:\\users\\sulayako\\appdata\\local\\programs\\python\\python312\\lib\\site-packages (from requests>=2.10.0->newspaper3k) (2023.11.17)\n",
      "Collecting requests-file>=1.4 (from tldextract>=2.0.1->newspaper3k)\n",
      "  Downloading requests_file-2.0.0-py2.py3-none-any.whl.metadata (1.7 kB)\n",
      "Requirement already satisfied: filelock>=3.0.8 in c:\\users\\sulayako\\appdata\\local\\programs\\python\\python312\\lib\\site-packages (from tldextract>=2.0.1->newspaper3k) (3.13.1)\n",
      "Requirement already satisfied: colorama in c:\\users\\sulayako\\appdata\\local\\programs\\python\\python312\\lib\\site-packages (from click->nltk>=3.2.1->newspaper3k) (0.4.4)\n",
      "Downloading newspaper3k-0.2.8-py3-none-any.whl (211 kB)\n",
      "   ---------------------------------------- 0.0/211.1 kB ? eta -:--:--\n",
      "   -------------------------------------- - 204.8/211.1 kB 6.3 MB/s eta 0:00:01\n",
      "   ---------------------------------------- 211.1/211.1 kB 6.5 MB/s eta 0:00:00\n",
      "Downloading cssselect-1.2.0-py2.py3-none-any.whl (18 kB)\n",
      "Downloading feedparser-6.0.11-py3-none-any.whl (81 kB)\n",
      "   ---------------------------------------- 0.0/81.3 kB ? eta -:--:--\n",
      "   ---------------------------------------- 81.3/81.3 kB 4.4 MB/s eta 0:00:00\n",
      "Downloading tldextract-5.1.2-py3-none-any.whl (97 kB)\n",
      "   ---------------------------------------- 0.0/97.6 kB ? eta -:--:--\n",
      "   ---------------------------------------- 97.6/97.6 kB 5.8 MB/s eta 0:00:00\n",
      "Downloading requests_file-2.0.0-py2.py3-none-any.whl (4.2 kB)\n",
      "Building wheels for collected packages: tinysegmenter, feedfinder2, jieba3k, sgmllib3k\n",
      "  Building wheel for tinysegmenter (setup.py): started\n",
      "  Building wheel for tinysegmenter (setup.py): finished with status 'done'\n",
      "  Created wheel for tinysegmenter: filename=tinysegmenter-0.3-py3-none-any.whl size=13568 sha256=dba6f3fd9228f18da7284f5833f92b9259d82cc1cdf3f60e0c757d6471d2c4af\n",
      "  Stored in directory: c:\\users\\sulayako\\appdata\\local\\pip\\cache\\wheels\\a5\\91\\9f\\00d66475960891a64867914273fcaf78df6cb04d905b104a2a\n",
      "  Building wheel for feedfinder2 (setup.py): started\n",
      "  Building wheel for feedfinder2 (setup.py): finished with status 'done'\n",
      "  Created wheel for feedfinder2: filename=feedfinder2-0.0.4-py3-none-any.whl size=3359 sha256=90c99e20a79e8bed16bf1e0f9f8063f753e4e3f23aa597d15654d76925ffdea8\n",
      "  Stored in directory: c:\\users\\sulayako\\appdata\\local\\pip\\cache\\wheels\\9f\\9f\\fb\\364871d7426d3cdd4d293dcf7e53d97f160c508b2ccf00cc79\n",
      "  Building wheel for jieba3k (setup.py): started\n",
      "  Building wheel for jieba3k (setup.py): finished with status 'done'\n",
      "  Created wheel for jieba3k: filename=jieba3k-0.35.1-py3-none-any.whl size=7398387 sha256=c1d32c019f9d44b160172ac2465d68dcbcb2772f7c1eef0192a2e252c034846a\n",
      "  Stored in directory: c:\\users\\sulayako\\appdata\\local\\pip\\cache\\wheels\\26\\72\\f7\\fff392a8d4ea988dea4ccf9788599d09462a7f5e51e04f8a92\n",
      "  Building wheel for sgmllib3k (setup.py): started\n",
      "  Building wheel for sgmllib3k (setup.py): finished with status 'done'\n",
      "  Created wheel for sgmllib3k: filename=sgmllib3k-1.0.0-py3-none-any.whl size=6061 sha256=3daabed7691566282b01de80b6fc4681cf7df8fc2b032e5a386859b8033d6224\n",
      "  Stored in directory: c:\\users\\sulayako\\appdata\\local\\pip\\cache\\wheels\\03\\f5\\1a\\23761066dac1d0e8e683e5fdb27e12de53209d05a4a37e6246\n",
      "Successfully built tinysegmenter feedfinder2 jieba3k sgmllib3k\n",
      "Installing collected packages: tinysegmenter, sgmllib3k, jieba3k, feedparser, cssselect, requests-file, feedfinder2, tldextract, newspaper3k\n",
      "Successfully installed cssselect-1.2.0 feedfinder2-0.0.4 feedparser-6.0.11 jieba3k-0.35.1 newspaper3k-0.2.8 requests-file-2.0.0 sgmllib3k-1.0.0 tinysegmenter-0.3 tldextract-5.1.2\n"
     ]
    }
   ],
   "source": [
    "!pip install newspaper3k"
   ]
  },
  {
   "cell_type": "code",
   "execution_count": 6,
   "metadata": {
    "executionInfo": {
     "elapsed": 1,
     "status": "ok",
     "timestamp": 1710904109881,
     "user": {
      "displayName": "Thamindu Bluechiptech",
      "userId": "02818025768214408432"
     },
     "user_tz": -330
    },
    "id": "-WZUD14B0C0L"
   },
   "outputs": [],
   "source": [
    "from newspaper import Article"
   ]
  },
  {
   "cell_type": "code",
   "execution_count": 7,
   "metadata": {
    "colab": {
     "base_uri": "https://localhost:8080/"
    },
    "executionInfo": {
     "elapsed": 18283,
     "status": "ok",
     "timestamp": 1710904369405,
     "user": {
      "displayName": "Thamindu Bluechiptech",
      "userId": "02818025768214408432"
     },
     "user_tz": -330
    },
    "id": "OaWswxsW0J_s",
    "outputId": "355c21af-7c0a-4301-cc83-3ffa6c13a21f"
   },
   "outputs": [
    {
     "name": "stderr",
     "output_type": "stream",
     "text": [
      "Building prefix dict from C:\\Users\\sulayako\\AppData\\Local\\Programs\\Python\\Python312\\Lib\\site-packages\\jieba\\dict.txt ...\n",
      "Dumping model to file cache C:\\Users\\sulayako\\AppData\\Local\\Temp\\jieba.cache\n",
      "Loading model cost 1.6050844192504883 seconds.\n",
      "Prefix dict has been built succesfully.\n"
     ]
    }
   ],
   "source": [
    "url = \"http://www.china.com.cn/\"\n",
    "a = Article(url, language='zh') # Chinese\n",
    "a.download()\n",
    "a.parse()"
   ]
  },
  {
   "cell_type": "markdown",
   "metadata": {
    "id": "fYPbAQXO2Qqp"
   },
   "source": [
    "initialization via the SnowNLP class"
   ]
  },
  {
   "cell_type": "code",
   "execution_count": 8,
   "metadata": {
    "colab": {
     "base_uri": "https://localhost:8080/"
    },
    "executionInfo": {
     "elapsed": 16455,
     "status": "ok",
     "timestamp": 1710904510323,
     "user": {
      "displayName": "Thamindu Bluechiptech",
      "userId": "02818025768214408432"
     },
     "user_tz": -330
    },
    "id": "QENGWrtw2rtY",
    "outputId": "92aa3d7e-e9bb-4390-942f-a2e30c014d17"
   },
   "outputs": [
    {
     "name": "stdout",
     "output_type": "stream",
     "text": [
      "Collecting snownlp\n",
      "  Using cached snownlp-0.12.3-py3-none-any.whl\n",
      "Installing collected packages: snownlp\n",
      "Successfully installed snownlp-0.12.3\n",
      "Note: you may need to restart the kernel to use updated packages.\n"
     ]
    }
   ],
   "source": [
    "pip install snownlp"
   ]
  },
  {
   "cell_type": "code",
   "execution_count": 9,
   "metadata": {
    "colab": {
     "base_uri": "https://localhost:8080/"
    },
    "executionInfo": {
     "elapsed": 6029,
     "status": "ok",
     "timestamp": 1710904651418,
     "user": {
      "displayName": "Thamindu Bluechiptech",
      "userId": "02818025768214408432"
     },
     "user_tz": -330
    },
    "id": "dDHkD4az1Y1E",
    "outputId": "ee51f7fa-ecab-478c-a2fa-aee12467d37f"
   },
   "outputs": [
    {
     "name": "stdout",
     "output_type": "stream",
     "text": [
      "['我', '喜欢', '红包']\n"
     ]
    }
   ],
   "source": [
    "from snownlp import SnowNLP\n",
    "\n",
    "# Initialize SnowNLP with a Chinese text\n",
    "s = SnowNLP(u'我喜欢红包')  # Remember to prefix with 'u' to indicate a Unicode string\n",
    "\n",
    "# Tokenize the text into words\n",
    "words = s.words\n",
    "\n",
    "# Print the tokenized words\n",
    "print(words)\n"
   ]
  },
  {
   "cell_type": "code",
   "execution_count": 10,
   "metadata": {
    "colab": {
     "base_uri": "https://localhost:8080/"
    },
    "executionInfo": {
     "elapsed": 475,
     "status": "ok",
     "timestamp": 1710906367629,
     "user": {
      "displayName": "Thamindu Bluechiptech",
      "userId": "02818025768214408432"
     },
     "user_tz": -330
    },
    "id": "GvyaoESv2bxd",
    "outputId": "4baaca6a-5665-43db-b904-888939987f6f"
   },
   "outputs": [
    {
     "data": {
      "text/plain": [
       "[('我', 'r'), ('喜欢', 'v'), ('红包', 'n')]"
      ]
     },
     "execution_count": 10,
     "metadata": {},
     "output_type": "execute_result"
    }
   ],
   "source": [
    "from snownlp import SnowNLP\n",
    "s = SnowNLP(u'我喜欢红包')\n",
    "list(s.tags)"
   ]
  },
  {
   "cell_type": "markdown",
   "metadata": {
    "id": "skGNdO6g9hAn"
   },
   "source": [
    "*   r: refers to pronoun.\n",
    "*   v: refers to verb.\n",
    "*   n: refers to noun.\n",
    "*   w: refers to punctuation.\n",
    "\n"
   ]
  },
  {
   "cell_type": "markdown",
   "metadata": {
    "id": "BNnUySVW9xT-"
   },
   "source": [
    "Coming back to the task is, now we need to get the keywords"
   ]
  },
  {
   "cell_type": "code",
   "execution_count": 11,
   "metadata": {
    "colab": {
     "base_uri": "https://localhost:8080/"
    },
    "executionInfo": {
     "elapsed": 463,
     "status": "ok",
     "timestamp": 1710906393428,
     "user": {
      "displayName": "Thamindu Bluechiptech",
      "userId": "02818025768214408432"
     },
     "user_tz": -330
    },
    "id": "MQc8vWIp5FS-",
    "outputId": "763f108d-d9be-48f7-c62c-7d4d93121347"
   },
   "outputs": [
    {
     "data": {
      "text/plain": [
       "['红包', '喜欢']"
      ]
     },
     "execution_count": 11,
     "metadata": {},
     "output_type": "execute_result"
    }
   ],
   "source": [
    "s.keywords(10)"
   ]
  },
  {
   "cell_type": "code",
   "execution_count": 12,
   "metadata": {
    "colab": {
     "base_uri": "https://localhost:8080/"
    },
    "executionInfo": {
     "elapsed": 443,
     "status": "ok",
     "timestamp": 1710906400519,
     "user": {
      "displayName": "Thamindu Bluechiptech",
      "userId": "02818025768214408432"
     },
     "user_tz": -330
    },
    "id": "gJnackHK977H",
    "outputId": "69c4f35b-510e-4843-e5f5-33ee1f8bfd7a"
   },
   "outputs": [
    {
     "data": {
      "text/plain": [
       "['我喜欢红包']"
      ]
     },
     "execution_count": 12,
     "metadata": {},
     "output_type": "execute_result"
    }
   ],
   "source": [
    "s.summary(3)"
   ]
  },
  {
   "cell_type": "code",
   "execution_count": 13,
   "metadata": {
    "colab": {
     "base_uri": "https://localhost:8080/"
    },
    "executionInfo": {
     "elapsed": 457,
     "status": "ok",
     "timestamp": 1710906418449,
     "user": {
      "displayName": "Thamindu Bluechiptech",
      "userId": "02818025768214408432"
     },
     "user_tz": -330
    },
    "id": "ZlOv1-a699qH",
    "outputId": "6aa62e28-cee5-46d8-e25b-0f59af437458"
   },
   "outputs": [
    {
     "data": {
      "text/plain": [
       "0.5116350732054405"
      ]
     },
     "execution_count": 13,
     "metadata": {},
     "output_type": "execute_result"
    }
   ],
   "source": [
    "s.sentiments"
   ]
  },
  {
   "cell_type": "markdown",
   "metadata": {
    "id": "pedMVYAB-Ay_"
   },
   "source": [
    "split the whole text into sentences"
   ]
  },
  {
   "cell_type": "code",
   "execution_count": 15,
   "metadata": {
    "colab": {
     "base_uri": "https://localhost:8080/"
    },
    "executionInfo": {
     "elapsed": 498,
     "status": "ok",
     "timestamp": 1710907025401,
     "user": {
      "displayName": "Thamindu Bluechiptech",
      "userId": "02818025768214408432"
     },
     "user_tz": -330
    },
    "id": "t-1Pq7g4-Onj",
    "outputId": "f9f58423-f428-462e-b0d2-bf3163ea3bd9"
   },
   "outputs": [
    {
     "name": "stdout",
     "output_type": "stream",
     "text": [
      "The keywords are:\n",
      "Foreign, Ministry, State, Affairs:, actions\n",
      "The summary is:\n",
      "Ministry of National Defense: India should stop actions that are inconsistent with easing the border situation, Ministry of Foreign Affairs: Spreading false information cannot stop China’s progress\n",
      " \n",
      "Sentence: Press release\n",
      "Sentiment: 0.4737672181921908\n",
      "Sentence: The spokesperson of the Chinese Embassy in the Philippines responded to reporters’ questions on U.S. Secretary of State Blinken’s erroneous remarks on the South China Sea issue\n",
      "Sentiment: 0.07737095533983573\n",
      "Sentence: Taiwan Affairs Office of the State Council: Firmly opposed to any form of official exchanges between countries that have diplomatic relations with China and Taiwan\n",
      "Sentiment: 0.186883963356826\n",
      "Sentence: Ministry of Foreign Affairs: Congratulations to Mustafa on his assumption of office as the new Palestinian Prime Minister\n",
      "Sentiment: 0.21384155132474048\n",
      "Sentence: Ministry of Foreign Affairs: Urging Japan to take concrete actions to completely break away from militarism\n",
      "Sentiment: 0.27984147275311977\n",
      "Sentence: On March 19, 2024, Foreign Ministry Spokesperson Lin Jian hosted a regular press conference\n",
      "Sentiment: 0.13282780505793834\n",
      "Sentence: The spokesman of the National Development and Reform Commission discussed new opportunities for China's economy with the business community\n",
      "Sentiment: 0.10563421952288965\n",
      "Sentence: On March 18, 2024, Foreign Ministry Spokesperson Lin Jian hosted a regular press conference\n",
      "Sentiment: 0.13282780505793834\n",
      "Sentence: Taiwan Affairs Office of the State Council: Mutual assistance in dealing with emergencies at sea is the right way for both sides in the Taiwan Strait\n",
      "Sentiment: 0.22091695429926161\n",
      "Sentence: Spokesperson of the Ministry of Foreign Affairs responded to the negative remarks of the US Ambassador to China regarding China\n",
      "Sentiment: 0.25917217081084476\n",
      "Sentence: Ministry of Foreign Affairs: Will provide assistance to Cuba in overcoming current difficulties\n",
      "Sentiment: 0.07211230559073101\n",
      "Sentence: On March 15, 2024, Foreign Ministry Spokesperson Wang Wenbin hosted a regular press conference\n",
      "Sentiment: 0.13282780505793834\n",
      "Sentence: Taiwan Affairs Office of the State Council: Firmly supports the mainland coast guard department in carrying out law enforcement inspections in waters near Kinmen\n",
      "Sentiment: 0.1570370754786512\n",
      "Sentence: Ministry of Foreign Affairs: Spreading false information cannot stop China’s progress\n",
      "Sentiment: 0.301488340956675\n",
      "Sentence: Ministry of National Defense: India should stop actions that are inconsistent with easing the border situation\n",
      "Sentiment: 0.27984147275311977\n"
     ]
    }
   ],
   "source": [
    "from snownlp import SnowNLP\n",
    "\n",
    "# Replace the input text with your desired text\n",
    "input_text = \"\"\"Press release\n",
    "The spokesperson of the Chinese Embassy in the Philippines responded to reporters’ questions on U.S. Secretary of State Blinken’s erroneous remarks on the South China Sea issue\n",
    "Taiwan Affairs Office of the State Council: Firmly opposed to any form of official exchanges between countries that have diplomatic relations with China and Taiwan\n",
    "Ministry of Foreign Affairs: Congratulations to Mustafa on his assumption of office as the new Palestinian Prime Minister\n",
    "Ministry of Foreign Affairs: Urging Japan to take concrete actions to completely break away from militarism\n",
    "On March 19, 2024, Foreign Ministry Spokesperson Lin Jian hosted a regular press conference\n",
    "The spokesman of the National Development and Reform Commission discussed new opportunities for China's economy with the business community\n",
    "On March 18, 2024, Foreign Ministry Spokesperson Lin Jian hosted a regular press conference\n",
    "Taiwan Affairs Office of the State Council: Mutual assistance in dealing with emergencies at sea is the right way for both sides in the Taiwan Strait\n",
    "Spokesperson of the Ministry of Foreign Affairs responded to the negative remarks of the US Ambassador to China regarding China\n",
    "Ministry of Foreign Affairs: Will provide assistance to Cuba in overcoming current difficulties\n",
    "On March 15, 2024, Foreign Ministry Spokesperson Wang Wenbin hosted a regular press conference\n",
    "Taiwan Affairs Office of the State Council: Firmly supports the mainland coast guard department in carrying out law enforcement inspections in waters near Kinmen\n",
    "Ministry of Foreign Affairs: Spreading false information cannot stop China’s progress\n",
    "Ministry of National Defense: India should stop actions that are inconsistent with easing the border situation\"\"\"\n",
    "\n",
    "# Create SnowNLP object with the input text\n",
    "s = SnowNLP(input_text)\n",
    "\n",
    "# Keywords\n",
    "print(\"The keywords are:\")\n",
    "print(*s.keywords(5), sep=\", \")\n",
    "\n",
    "# Summary\n",
    "print(\"The summary is:\")\n",
    "print(*s.summary(2), sep=\", \")\n",
    "print(\" \")\n",
    "\n",
    "# Sentiment analysis on individual sentences\n",
    "sentences = s.sentences\n",
    "for sentence in sentences:\n",
    "    s_sentence = SnowNLP(sentence)\n",
    "    print(\"Sentence:\", sentence)\n",
    "    print(\"Sentiment:\", s_sentence.sentiments)\n"
   ]
  },
  {
   "cell_type": "code",
   "execution_count": 16,
   "metadata": {
    "colab": {
     "base_uri": "https://localhost:8080/"
    },
    "executionInfo": {
     "elapsed": 1239,
     "status": "ok",
     "timestamp": 1710906999546,
     "user": {
      "displayName": "Thamindu Bluechiptech",
      "userId": "02818025768214408432"
     },
     "user_tz": -330
    },
    "id": "vWA0PTu7_K8h",
    "outputId": "2176b885-2fd6-488c-b492-3e4729582f91"
   },
   "outputs": [
    {
     "name": "stdout",
     "output_type": "stream",
     "text": [
      "The keywords are:\n",
      "外交部, 中国, 发言人, 应, 美国\n",
      "The summary is:\n",
      "外交部发言人林坚主持例行记者会, 外交部发言人林坚主持例行记者会\n",
      " \n",
      "Sentence: 新闻稿\n",
      "Sentiment: 0.6645037616567715\n",
      "Sentence: 中国驻菲律宾使馆发言人就美国国务卿布林肯在南海问题上的错误言论答记者问\n",
      "Sentiment: 0.3577115446454615\n",
      "Sentence: 国台办：坚决反对建交国与中国台湾进行任何形式的官方往来\n",
      "Sentiment: 0.9858811227899732\n",
      "Sentence: 外交部：祝贺穆斯塔法就任巴勒斯坦新总理\n",
      "Sentiment: 0.6603689313443105\n",
      "Sentence: 外交部：敦促日方采取切实行动彻底脱离军国主义\n",
      "Sentiment: 0.6304746833989406\n",
      "Sentence: 2024年3月19日\n",
      "Sentiment: 0.07991033427032224\n",
      "Sentence: 外交部发言人林坚主持例行记者会\n",
      "Sentiment: 0.5625949974090925\n",
      "Sentence: 国家发改委新闻发言人与工商界共商中国经济新机遇\n",
      "Sentiment: 0.9864792047159534\n",
      "Sentence: 2024年3月18日\n",
      "Sentiment: 0.16811374790283784\n",
      "Sentence: 外交部发言人林坚主持例行记者会\n",
      "Sentiment: 0.5625949974090925\n",
      "Sentence: 国台办：台海双方互助应对海上突发事件才是正确之道\n",
      "Sentiment: 0.991949991808882\n",
      "Sentence: 外交部发言人回应美国驻华大使涉华负面言论\n",
      "Sentiment: 0.9879813696514639\n",
      "Sentence: 外交部：将向古巴克服当前困难提供帮助\n",
      "Sentiment: 0.5640603991776584\n",
      "Sentence: 2024年3月15日\n",
      "Sentiment: 0.09299983468069173\n",
      "Sentence: 外交部发言人汪文斌主持例行记者会\n",
      "Sentiment: 0.5218354548251938\n",
      "Sentence: 国台办：坚决支持大陆海警部门在金门附近海域开展执法检查\n",
      "Sentiment: 0.22720615762611063\n",
      "Sentence: 外交部：散布虚假信息阻挡不了中国前进的脚步\n",
      "Sentiment: 0.9561517584803187\n",
      "Sentence: 国防部：印度应停止与缓和边境局势相悖的行动\n",
      "Sentiment: 0.9659301788368787\n"
     ]
    }
   ],
   "source": [
    "from snownlp import SnowNLP\n",
    "\n",
    "# Replace the input text with your desired text\n",
    "input_text = \"\"\"新闻稿\n",
    "中国驻菲律宾使馆发言人就美国国务卿布林肯在南海问题上的错误言论答记者问\n",
    "国台办：坚决反对建交国与中国台湾进行任何形式的官方往来\n",
    "外交部：祝贺穆斯塔法就任巴勒斯坦新总理\n",
    "外交部：敦促日方采取切实行动彻底脱离军国主义\n",
    "2024年3月19日，外交部发言人林坚主持例行记者会\n",
    "国家发改委新闻发言人与工商界共商中国经济新机遇\n",
    "2024年3月18日，外交部发言人林坚主持例行记者会\n",
    "国台办：台海双方互助应对海上突发事件才是正确之道\n",
    "外交部发言人回应美国驻华大使涉华负面言论\n",
    "外交部：将向古巴克服当前困难提供帮助\n",
    "2024年3月15日，外交部发言人汪文斌主持例行记者会\n",
    "国台办：坚决支持大陆海警部门在金门附近海域开展执法检查\n",
    "外交部：散布虚假信息阻挡不了中国前进的脚步\n",
    "国防部：印度应停止与缓和边境局势相悖的行动\"\"\"\n",
    "\n",
    "# Create SnowNLP object with the input text\n",
    "s = SnowNLP(input_text)\n",
    "\n",
    "# Keywords\n",
    "print(\"The keywords are:\")\n",
    "print(*s.keywords(5), sep=\", \")\n",
    "\n",
    "# Summary\n",
    "print(\"The summary is:\")\n",
    "print(*s.summary(2), sep=\", \")\n",
    "print(\" \")\n",
    "\n",
    "# Sentiment analysis on individual sentences\n",
    "sentences = s.sentences\n",
    "for sentence in sentences:\n",
    "    s_sentence = SnowNLP(sentence)\n",
    "    print(\"Sentence:\", sentence)\n",
    "    print(\"Sentiment:\", s_sentence.sentiments)\n"
   ]
  },
  {
   "cell_type": "code",
   "execution_count": 23,
   "metadata": {},
   "outputs": [],
   "source": [
    "import pickle\n",
    "from snownlp import SnowNLP\n",
    "\n",
    "# Assuming you have trained your model and named it 'model'\n",
    "model = s\n",
    "\n",
    "# Save the model as a pickle file\n",
    "with open(\"s.pkl\", \"wb\") as f:\n",
    "    pickle.dump(model, f)"
   ]
  },
  {
   "cell_type": "code",
   "execution_count": null,
   "metadata": {},
   "outputs": [],
   "source": []
  }
 ],
 "metadata": {
  "colab": {
   "authorship_tag": "ABX9TyNyOfj/EKtyvxKf/m1mMrmC",
   "provenance": []
  },
  "kernelspec": {
   "display_name": "Python 3 (ipykernel)",
   "language": "python",
   "name": "python3"
  },
  "language_info": {
   "codemirror_mode": {
    "name": "ipython",
    "version": 3
   },
   "file_extension": ".py",
   "mimetype": "text/x-python",
   "name": "python",
   "nbconvert_exporter": "python",
   "pygments_lexer": "ipython3",
   "version": "3.12.2"
  }
 },
 "nbformat": 4,
 "nbformat_minor": 4
}
